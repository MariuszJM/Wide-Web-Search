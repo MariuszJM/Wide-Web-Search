{
 "cells": [
  {
   "cell_type": "code",
   "execution_count": 2,
   "id": "44e7b059",
   "metadata": {},
   "outputs": [
    {
     "data": {
      "text/plain": [
       "True"
      ]
     },
     "execution_count": 2,
     "metadata": {},
     "output_type": "execute_result"
    }
   ],
   "source": [
    "from dotenv import load_dotenv\n",
    "load_dotenv()"
   ]
  },
  {
   "cell_type": "markdown",
   "id": "c95d823e",
   "metadata": {},
   "source": [
    "# LLM"
   ]
  },
  {
   "cell_type": "code",
   "execution_count": 4,
   "id": "e440596c",
   "metadata": {},
   "outputs": [],
   "source": [
    "from langchain_ollama import ChatOllama\n",
    "\n",
    "local_llm = \"llama3.2:latest\"\n",
    "llm = ChatOllama(model=local_llm, temperature=0)\n",
    "llm_json_mode = ChatOllama(model=local_llm, temperature=0, format=\"json\")"
   ]
  },
  {
   "cell_type": "markdown",
   "id": "e2de34a3",
   "metadata": {},
   "source": [
    "# User Input"
   ]
  },
  {
   "cell_type": "code",
   "execution_count": 5,
   "id": "d18ff654",
   "metadata": {},
   "outputs": [],
   "source": [
    "input = {\n",
    "    \"search_queries\": [\n",
    "        \"High-level overview of intelligent user interfaces and their impact on modern UI/UX design\",\n",
    "        \"Tools and frameworks for building intelligent user interfaces: A 2024 guide\"\n",
    "    ],\n",
    "    \"specific_questions\": [\n",
    "        \"What are the latest trends in intelligent user interfaces, and how are they shaping user experience?\",\n",
    "        \"What are the best practices for ensuring accessibility and inclusivity in AI-powered user interfaces?\",\n",
    "        \"What is a woman?\"\n",
    "    ],\n",
    "    \"platform\": \"google\",\n",
    "    \"time_horizon\": 185, \n",
    "    \"max_outputs\": 5\n",
    "}"
   ]
  },
  {
   "cell_type": "markdown",
   "id": "87a86d91",
   "metadata": {},
   "source": [
    "### Tracing \n",
    "\n",
    "Optionally, use [LangSmith](https://www.langchain.com/langsmith) for tracing. "
   ]
  },
  {
   "cell_type": "code",
   "execution_count": 11,
   "id": "4462e628",
   "metadata": {},
   "outputs": [],
   "source": [
    "import os\n",
    "import getpass\n",
    "\n",
    "\n",
    "def _set_env(var: str):\n",
    "    if not os.environ.get(var):\n",
    "        os.environ[var] = getpass.getpass(f\"{var}: \")\n",
    "\n",
    "_set_env(\"LANGCHAIN_API_KEY\")\n",
    "os.environ[\"LANGCHAIN_TRACING_V2\"] = \"true\"\n",
    "os.environ[\"LANGCHAIN_PROJECT\"] = \"local-llama32-rag\""
   ]
  },
  {
   "cell_type": "markdown",
   "id": "b297d998",
   "metadata": {},
   "source": [
    "# Run the graph"
   ]
  },
  {
   "cell_type": "code",
   "execution_count": null,
   "id": "de3cd6e8",
   "metadata": {},
   "outputs": [],
   "source": []
  }
 ],
 "metadata": {
  "kernelspec": {
   "display_name": ".venv",
   "language": "python",
   "name": "python3"
  },
  "language_info": {
   "codemirror_mode": {
    "name": "ipython",
    "version": 3
   },
   "file_extension": ".py",
   "mimetype": "text/x-python",
   "name": "python",
   "nbconvert_exporter": "python",
   "pygments_lexer": "ipython3",
   "version": "3.12.3"
  }
 },
 "nbformat": 4,
 "nbformat_minor": 5
}
