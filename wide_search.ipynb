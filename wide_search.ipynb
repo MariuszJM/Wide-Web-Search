{
 "cells": [
  {
   "cell_type": "code",
   "execution_count": 1,
   "id": "b4602456",
   "metadata": {},
   "outputs": [
    {
     "name": "stderr",
     "output_type": "stream",
     "text": [
      "USER_AGENT environment variable not set, consider setting it to identify your requests.\n"
     ]
    }
   ],
   "source": [
    "import os\n",
    "import yaml\n",
    "import json\n",
    "import datetime\n",
    "import logging\n",
    "from langchain_core.messages import HumanMessage, SystemMessage\n",
    "from langchain.text_splitter import RecursiveCharacterTextSplitter\n",
    "from langchain_community.vectorstores import SKLearnVectorStore\n",
    "from langchain_nomic.embeddings import NomicEmbeddings\n",
    "from langgraph.graph import StateGraph, END\n",
    "from langchain_community.document_loaders import WebBaseLoader\n",
    "from langchain_google_community import GoogleSearchAPIWrapper\n",
    "from langchain_community.tools import YouTubeSearchTool\n",
    "from langchain_community.document_loaders import YoutubeLoader\n",
    "from datetime import datetime, timedelta\n",
    "from IPython.display import Image, display"
   ]
  },
  {
   "cell_type": "code",
   "execution_count": 2,
   "id": "44e7b059",
   "metadata": {},
   "outputs": [
    {
     "data": {
      "text/plain": [
       "True"
      ]
     },
     "execution_count": 2,
     "metadata": {},
     "output_type": "execute_result"
    }
   ],
   "source": [
    "from dotenv import load_dotenv\n",
    "load_dotenv()"
   ]
  },
  {
   "cell_type": "code",
   "execution_count": 3,
   "id": "4263437f",
   "metadata": {},
   "outputs": [],
   "source": [
    "# Search Queries\n",
    "SEARCH_QUERIES = [\n",
    "    \"High-level overview of intelligent user interfaces and their impact on modern UI/UX design\",\n",
    "    \"Tools and frameworks for building intelligent user interfaces: A 2024 guide\"\n",
    "]\n",
    "\n",
    "# Specific Questions\n",
    "SPECIFIC_QUESTIONS = [\n",
    "    \"What are the latest trends in intelligent user interfaces, and how are they shaping user experience?\",\n",
    "    \"What are the best practices for ensuring accessibility and inclusivity in AI-powered user interfaces?\",\n",
    "]\n",
    "\n",
    "# Time Horizon in days\n",
    "TIME_HORIZON = 185  # In days\n",
    "\n",
    "# Max Outputs\n",
    "MAX_OUTPUTS = 5\n",
    "\n",
    "PLATFORM = 'google'\n",
    "\n",
    "# LLM Name\n",
    "LLM_NAME = \"ollama\"  # Available options: \"ollama\", \"groq\"\n",
    "\n",
    "# Logger Setup\n",
    "logging.basicConfig(level=logging.INFO)\n",
    "logger = logging.getLogger(__name__)"
   ]
  },
  {
   "cell_type": "code",
   "execution_count": 4,
   "id": "e440596c",
   "metadata": {},
   "outputs": [],
   "source": [
    "from src.llm import get_llm, get_llm_json_mode\n",
    "\n",
    "# Initialize LLM\n",
    "llm = get_llm(LLM_NAME)\n",
    "llm_json_mode = get_llm_json_mode(LLM_NAME)\n"
   ]
  },
  {
   "cell_type": "code",
   "execution_count": 5,
   "id": "bc8a2c0b",
   "metadata": {},
   "outputs": [],
   "source": [
    "# Save configuration data\n",
    "config_data = {\n",
    "    \"search_queries\": SEARCH_QUERIES,\n",
    "    \"specific_questions\": SPECIFIC_QUESTIONS,\n",
    "    \"platform\": PLATFORM,\n",
    "    \"time_horizon\": TIME_HORIZON,\n",
    "    \"max_outputs\": MAX_OUTPUTS,\n",
    "    \"llm_name\": LLM_NAME,\n",
    "}\n"
   ]
  },
  {
   "cell_type": "markdown",
   "id": "42d22670",
   "metadata": {},
   "source": [
    "## Control Flow"
   ]
  },
  {
   "cell_type": "markdown",
   "id": "87a86d91",
   "metadata": {},
   "source": [
    "### Tracing \n",
    "\n",
    "Optionally, use [LangSmith](https://www.langchain.com/langsmith) for tracing. "
   ]
  },
  {
   "cell_type": "code",
   "execution_count": 6,
   "id": "4462e628",
   "metadata": {},
   "outputs": [],
   "source": [
    "import os\n",
    "\n",
    "os.environ[\"LANGCHAIN_TRACING_V2\"] = \"true\"\n",
    "os.environ[\"LANGCHAIN_PROJECT\"] = \"local-llama32-rag\""
   ]
  },
  {
   "cell_type": "markdown",
   "id": "43360fea",
   "metadata": {},
   "source": [
    "### Nodes"
   ]
  },
  {
   "cell_type": "code",
   "execution_count": 7,
   "id": "46c15ec5",
   "metadata": {},
   "outputs": [],
   "source": [
    "from src.nodes import (\n",
    "    google_retrieve_urls,\n",
    "    youtube_retrieve_urls,\n",
    "    google_process_content,\n",
    "    youtube_process_content,\n",
    "    create_embeddings,\n",
    "    semantic_search_and_grading,\n",
    "    generate_qa,\n",
    "    hallucination_check,\n",
    "    generate_summaries,\n",
    "    rank_sources,\n",
    "    save_output\n",
    ")"
   ]
  },
  {
   "cell_type": "code",
   "execution_count": 8,
   "id": "83d3e9be",
   "metadata": {},
   "outputs": [],
   "source": [
    "### Edges\n",
    "\n",
    "def route_platform(state):\n",
    "    \"\"\"\n",
    "    Route to the appropriate platform-specific nodes\n",
    "\n",
    "    Args:\n",
    "        state (dict): The current graph state\n",
    "\n",
    "    Returns:\n",
    "        str: Next node to call\n",
    "    \"\"\"\n",
    "    if state[\"platform\"].lower() == 'google':\n",
    "        return \"google_retrieve_urls\"\n",
    "    elif state[\"platform\"].lower() == 'youtube':\n",
    "        return \"youtube_retrieve_urls\"\n",
    "    else:\n",
    "        raise ValueError(\"Invalid platform specified in state.\")\n"
   ]
  },
  {
   "cell_type": "code",
   "execution_count": 9,
   "id": "b195a861",
   "metadata": {},
   "outputs": [
    {
     "data": {
      "image/jpeg": "[encoded data removed]",
      "text/plain": [
       "<IPython.core.display.Image object>"
      ]
     },
     "metadata": {},
     "output_type": "display_data"
    }
   ],
   "source": [
    "import operator\n",
    "from typing_extensions import TypedDict\n",
    "from typing import List, Annotated\n",
    "\n",
    "\n",
    "class GraphState(TypedDict):\n",
    "    \"\"\"\n",
    "    Graph state is a dictionary that contains information we want to propagate to, \n",
    "    and modify in, each graph node.\n",
    "    \"\"\"\n",
    "\n",
    "    search_queries: List[str]  # List of search queries for the platform\n",
    "    specific_questions: List[str]  # List of specific questions for content filtering\n",
    "    platform: str  # Selected platform, e.g., 'google' or 'youtube'\n",
    "    llm: object  # LLM instance for text generation\n",
    "    llm_json_mode: object  # LLM instance for JSON-based output generation\n",
    "    time_horizon: int  # Time horizon in days for filtering content\n",
    "    max_outputs: int  # Maximum number of outputs to retrieve\n",
    "    logger: object  # Logger object to track progress\n",
    "    unique_urls: List[str]  # List of unique URLs retrieved from the platform\n",
    "    all_docs: List[str]  # List of documents/content retrieved from URLs\n",
    "    retriever: object  # Retriever object for semantic search\n",
    "    relevant_chunks: dict  # Relevant content chunks based on questions\n",
    "    qa_results: dict  # Q&A results after processing content\n",
    "    valid_qa_results: dict  # Validated Q&A results without hallucinations\n",
    "    summaries: dict  # Summaries for the processed sources\n",
    "    sorted_sources: List[str]  # Sources ranked based on relevance to questions\n",
    "    output_folder: str  # Folder path for saving results\n",
    "\n",
    "# Define the workflow graph\n",
    "workflow = StateGraph(GraphState)\n",
    "\n",
    "# Add nodes\n",
    "workflow.add_node(\"google_retrieve_urls\", google_retrieve_urls)\n",
    "workflow.add_node(\"youtube_retrieve_urls\", youtube_retrieve_urls)\n",
    "# workflow.add_node(\"google_process_content\", google_process_content)\n",
    "# workflow.add_node(\"youtube_process_content\", youtube_process_content)\n",
    "# workflow.add_node(\"create_embeddings\", create_embeddings)\n",
    "# workflow.add_node(\"semantic_search_and_grading\", semantic_search_and_grading)\n",
    "# workflow.add_node(\"generate_qa\", generate_qa)\n",
    "# workflow.add_node(\"hallucination_check\", hallucination_check)\n",
    "# workflow.add_node(\"generate_summaries\", generate_summaries)\n",
    "# workflow.add_node(\"rank_sources\", rank_sources)\n",
    "# workflow.add_node(\"save_output\", save_output)\n",
    "\n",
    "# Define edges\n",
    "workflow.set_conditional_entry_point(\n",
    "    route_platform,\n",
    "    {\n",
    "        \"google_retrieve_urls\": \"google_retrieve_urls\",\n",
    "        \"youtube_retrieve_urls\": \"youtube_retrieve_urls\",\n",
    "    },\n",
    ")\n",
    "\n",
    "# Platform-specific flows\n",
    "workflow.add_edge(\"google_retrieve_urls\", END)\n",
    "workflow.add_edge(\"youtube_retrieve_urls\", END)\n",
    "\n",
    "# Merge flows after platform-specific processing\n",
    "# workflow.add_edge(\"google_process_content\", END)\n",
    "# workflow.add_edge(\"youtube_process_content\", END)\n",
    "\n",
    "# # Continue common flow\n",
    "# workflow.add_edge(\"create_embeddings\", \"semantic_search_and_grading\")\n",
    "# workflow.add_edge(\"semantic_search_and_grading\", \"generate_qa\")\n",
    "# workflow.add_edge(\"generate_qa\", \"hallucination_check\")\n",
    "# workflow.add_edge(\"hallucination_check\", \"generate_summaries\")\n",
    "# workflow.add_edge(\"generate_summaries\", \"rank_sources\")\n",
    "# workflow.add_edge(\"rank_sources\", \"save_output\")\n",
    "# workflow.add_edge(\"save_output\", END)\n",
    "\n",
    "# Compile the graph\n",
    "graph = workflow.compile()\n",
    "display(Image(graph.get_graph().draw_mermaid_png()))\n"
   ]
  },
  {
   "cell_type": "markdown",
   "id": "b297d998",
   "metadata": {},
   "source": [
    "# Run the Graph"
   ]
  },
  {
   "cell_type": "code",
   "execution_count": 10,
   "id": "de3cd6e8",
   "metadata": {},
   "outputs": [],
   "source": [
    "# Execute the graph\n",
    "initial_state = GraphState({\n",
    "    \"search_queries\": SEARCH_QUERIES,\n",
    "    \"specific_questions\": SPECIFIC_QUESTIONS,\n",
    "    \"platform\": PLATFORM,\n",
    "    \"llm\": llm,\n",
    "    \"llm_json_mode\": llm_json_mode,\n",
    "    \"time_horizon\": TIME_HORIZON,\n",
    "    \"max_outputs\": MAX_OUTPUTS,\n",
    "    \"logger\": logger,\n",
    "})\n"
   ]
  },
  {
   "cell_type": "code",
   "execution_count": 11,
   "id": "614205e7",
   "metadata": {},
   "outputs": [
    {
     "name": "stderr",
     "output_type": "stream",
     "text": [
      "INFO:googleapiclient.discovery_cache:file_cache is only supported with oauth2client<4.0.0\n"
     ]
    },
    {
     "name": "stdout",
     "output_type": "stream",
     "text": [
      "{'search_queries': ['High-level overview of intelligent user interfaces and their impact on modern UI/UX design', 'Tools and frameworks for building intelligent user interfaces: A 2024 guide'], 'specific_questions': ['What are the latest trends in intelligent user interfaces, and how are they shaping user experience?', 'What are the best practices for ensuring accessibility and inclusivity in AI-powered user interfaces?'], 'platform': 'google', 'llm': ChatOllama(model='llama3.2:latest', temperature=0.0), 'llm_json_mode': ChatOllama(model='llama3.2:latest', temperature=0.0, format='json'), 'time_horizon': 185, 'max_outputs': 5, 'logger': <Logger __main__ (INFO)>, 'loop_step': 0}\n"
     ]
    },
    {
     "name": "stderr",
     "output_type": "stream",
     "text": [
      "INFO:__main__:Retrieved 20 unique URLs from Google.\n"
     ]
    },
    {
     "name": "stdout",
     "output_type": "stream",
     "text": [
      "{'search_queries': ['High-level overview of intelligent user interfaces and their impact on modern UI/UX design', 'Tools and frameworks for building intelligent user interfaces: A 2024 guide'], 'specific_questions': ['What are the latest trends in intelligent user interfaces, and how are they shaping user experience?', 'What are the best practices for ensuring accessibility and inclusivity in AI-powered user interfaces?'], 'platform': 'google', 'llm': ChatOllama(model='llama3.2:latest', temperature=0.0), 'llm_json_mode': ChatOllama(model='llama3.2:latest', temperature=0.0, format='json'), 'time_horizon': 185, 'max_outputs': 5, 'logger': <Logger __main__ (INFO)>, 'loop_step': 0, 'unique_urls': ['https://standards.ieee.org/initiatives/autonomous-intelligence-systems/standards/', 'https://www.ibm.com/products/watsonx-ai', 'https://www.codica.com/blog/ai-tech-stack-complete-guide/', 'https://iui.acm.org/2024/companion_proceedings.html', 'https://ux4sight.com/blog/designing-a-good-user-interface-and-why-its-vital-for-business', 'https://cacm.acm.org/blogcacm/the-evolution-of-user-interface-design/', 'https://www.restack.io/p/custom-ai-development-tool-trials-2024-answer-ai-development-flutter-pdf-cat-ai', 'https://www.ai.mil/docs/Test_and_Evaluation_Strategy_Frameworks/CDAO_TE_Framework_-_HSI_TES_2024-04.pdf', 'https://link.springer.com/article/10.1007/s11257-024-09414-0', 'https://www.carmatec.com/fr/blog/17-best-react-ui-frameworks/', 'https://wjarr.com/sites/default/files/WJARR-2024-2633.pdf', 'https://www.linkedin.com/pulse/from-concept-clicks-optimising-uxui-ai-infused-design-james-griffin-zpizf', 'https://learn.microsoft.com/en-us/sharepoint/information-architecture-modern-experience', 'https://techhub.asia/hire-ui-ux-designer/', 'https://www.functionize.com/automated-testing/gui-testing-tools', 'https://iui.acm.org/2024/proceedings.html', 'https://www.reddit.com/r/ycombinator/comments/1e5lumd/why_is_no_one_going_after_the_bloomberg_terminal/', 'https://www.linkedin.com/pulse/building-intelligent-applications-rag-beginners-guide-nagarajan-hypxc', 'https://arxiv.org/html/2405.09255v1', 'https://www.interaction-design.org/literature/article/ux-design-tools-definitive-guide']}\n"
     ]
    }
   ],
   "source": [
    "\n",
    "for event in graph.stream(initial_state, stream_mode=\"values\"):\n",
    "    print(event)"
   ]
  }
 ],
 "metadata": {
  "kernelspec": {
   "display_name": ".venv",
   "language": "python",
   "name": "python3"
  },
  "language_info": {
   "codemirror_mode": {
    "name": "ipython",
    "version": 3
   },
   "file_extension": ".py",
   "mimetype": "text/x-python",
   "name": "python",
   "nbconvert_exporter": "python",
   "pygments_lexer": "ipython3",
   "version": "3.12.3"
  }
 },
 "nbformat": 4,
 "nbformat_minor": 5
}
